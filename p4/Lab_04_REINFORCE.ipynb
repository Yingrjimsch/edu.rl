{
  "cells": [
    {
      "cell_type": "code",
      "execution_count": null,
      "metadata": {
        "id": "cbhF6-H5x_b7"
      },
      "outputs": [],
      "source": [
        "%matplotlib inline"
      ]
    },
    {
      "cell_type": "markdown",
      "metadata": {
        "id": "gDr7ZGY-x_b9"
      },
      "source": [
        "# REINFORCE on the CartPole Environment\n",
        "\n",
        "This is an altered version of Jose Nieves Flores Maynez' notebook.\n",
        "\n",
        "This tutorial shows how to use REINFORCE to train an RL agent on the CartPole-v0 task from the [OpenAI Gym](https://gym.openai.com/).\n",
        "\n",
        "![cartpole](https://github.com/pytorch/tutorials/blob/main/_static/img/cartpole.gif?raw=true)\n",
        "\n",
        "The Cartpole environment is a common simple example that is used often for simple RL examples.\n",
        "\n",
        "In this environment, the task is to balance the pole that is attached to the cart, by moving the cart to either side.\n",
        "The reward gets incremented for each step (for up to 200 steps) where the pole is not exceeding a set angle and the cart is not touching the sides of the line.\n",
        "The environment provides four parameters that represent the state of the environment:\n",
        "Position and velocity of the cart and angle and angular velocity of the pole (see [the documentation](https://gymnasium.farama.org/environments/classic_control/cart_pole/#observation-space)).\n",
        "We will solve this by applying REINFORCE to our RL agent.\n"
      ]
    },
    {
      "cell_type": "markdown",
      "metadata": {
        "id": "QCWbuk66234H"
      },
      "source": [
        "### Packages\n",
        "\n",
        "\n",
        "First, let's import needed packages."
      ]
    },
    {
      "cell_type": "code",
      "execution_count": null,
      "metadata": {
        "id": "9ccdmXWUx_b_"
      },
      "outputs": [],
      "source": [
        "import gym\n",
        "import math\n",
        "import random\n",
        "import numpy as np\n",
        "import matplotlib\n",
        "import matplotlib.pyplot as plt\n",
        "import seaborn as sns"
      ]
    },
    {
      "cell_type": "markdown",
      "metadata": {
        "id": "psxbGvWJx_cB"
      },
      "source": [
        "## Implementation\n",
        "Since this algorithm relies on updating a function for each existing pair of state and action, environments that have a high state-space become problematic. This is because we can approximate better the actual value of a state-action pair as we visit it more often. However, if we have many states or many actions to take, we distribute our visits among more pairs and it takes much longer to converge to the actual true values. The CartPole environment gives us the position of the cart, its velocity, the angle of the pole and the velocity at the tip of the pole as descriptors of the state. However, all of these are continuous variables. To be able to solve this problem, we need to discretize these states since otherwise, it would take forever to get values for each of the possible combinations of each state, despite them being bounded. The solution is to group several values of each of the variables into the same “bucket” and treat them as similar states. The agent implemented for this problem uses 3, 3, 6, and 6 buckets respectively."
      ]
    },
    {
      "cell_type": "code",
      "execution_count": null,
      "metadata": {
        "colab": {
          "base_uri": "https://localhost:8080/",
          "height": 616
        },
        "id": "tqqVqJYZwjQr",
        "outputId": "547fb01b-c4d7-4c1f-b150-1e9e538a045c"
      },
      "outputs": [],
      "source": [
        "\"\"\"\n",
        "Base code taken from:\n",
        "https://github.com/IsaacPatole/CartPole-v0-using-Q-learning-SARSA-and-DNN/blob/master/Qlearning_for_cartpole.py\n",
        "\"\"\"\n",
        "\n",
        "class CartPoleReinforceAgent():\n",
        "    def __init__(self, buckets=(3, 3, 6, 6),\n",
        "                 num_episodes=2000, min_lr=0.01,\n",
        "                 discount=0.99, decay=25, discretize=False):\n",
        "        self.buckets = buckets\n",
        "        self.num_episodes = num_episodes\n",
        "        self.min_lr = min_lr\n",
        "        # self.min_epsilon = min_epsilon\n",
        "        self.discount = discount\n",
        "        self.decay = decay\n",
        "        self.discretize = discretize\n",
        "\n",
        "        self.env = gym.make('CartPole-v0')\n",
        "\n",
        "        # Theta is added as with the same size as state (4 in our case)\n",
        "        self.theta = np.random.rand(self.env.observation_space.shape[0])\n",
        "\n",
        "        # [position, velocity, angle, angular velocity]\n",
        "        self.upper_bounds = [self.env.observation_space.high[0], 0.5, self.env.observation_space.high[2], math.radians(50) / 1.]\n",
        "        self.lower_bounds = [self.env.observation_space.low[0], -0.5, self.env.observation_space.low[2], -math.radians(50) / 1.]\n",
        "\n",
        "        #\n",
        "        self.steps = np.zeros(self.num_episodes)\n",
        "\n",
        "    def discretize_state(self, obs):\n",
        "        \"\"\"\n",
        "        Takes an observation of the environment and aliases it.\n",
        "        By doing this, very similar observations can be treated\n",
        "        as the same and it reduces the state space so that the\n",
        "        Q-table can be smaller and more easily filled.\n",
        "\n",
        "        Input:\n",
        "        obs (tuple): Tuple containing 4 floats describing the current\n",
        "                     state of the environment.\n",
        "\n",
        "        Output:\n",
        "        discretized (tuple): Tuple containing 4 non-negative integers smaller\n",
        "                             than n where n is the number in the same position\n",
        "                             in the buckets list.\n",
        "        \"\"\"\n",
        "        if not self.discretize:\n",
        "            return obs\n",
        "        discretized = list()\n",
        "        for i in range(len(obs)):\n",
        "            scaling = ((obs[i] + abs(self.lower_bounds[i]))\n",
        "                       / (self.upper_bounds[i] - self.lower_bounds[i]))\n",
        "            new_obs = int(round((self.buckets[i] - 1) * scaling))\n",
        "            new_obs = min(self.buckets[i] - 1, max(0, new_obs))\n",
        "            discretized.append(new_obs)\n",
        "        return tuple(discretized)\n",
        "\n",
        "    def get_learning_rate(self, t):\n",
        "        \"\"\"Gets value for learning rate. It declines as we advance in episodes.\"\"\"\n",
        "        # Learning rate also declines as we add more episodes\n",
        "        return max(self.min_lr, min(1., 1. - math.log10((t + 1) / self.decay)))\n",
        "\n",
        "    def plot_learning(self):\n",
        "        \"\"\"\n",
        "        Plots the number of steps at each episode and prints the\n",
        "        amount of times that an episode was successfully completed.\n",
        "        \"\"\"\n",
        "        sns.lineplot(data=self.steps)\n",
        "        plt.xlabel(\"Episode\")\n",
        "        plt.ylabel(\"Steps\")\n",
        "        plt.show()\n",
        "        t = 0\n",
        "        for i in range(self.num_episodes):\n",
        "            if self.steps[i] == 200:\n",
        "                t+=1\n",
        "        print(t, \"episodes were successfully completed.\")\n",
        "\n",
        "\n",
        "    def run(self):\n",
        "        \"\"\"Runs an episode while displaying the cartpole environment.\"\"\"\n",
        "        self.env = gym.wrappers.Monitor(self.env,'cartpole')\n",
        "        t = 0\n",
        "        done = False\n",
        "        current_state = self.discretize_state(self.env.reset())\n",
        "        while not done:\n",
        "                self.env.render()\n",
        "                t = t+1\n",
        "                action = self.choose_action(current_state)\n",
        "                obs, reward, done, _ = self.env.step(action)\n",
        "                new_state = self.discretize_state(obs)\n",
        "                current_state = new_state\n",
        "\n",
        "        return t"
      ]
    },
    {
      "attachments": {
        "image.png": {
          "image/png": "[encoded data removed]"
        }
      },
      "cell_type": "markdown",
      "metadata": {},
      "source": [
        "## Choosing an Action by it's theta values and the probabilities.\n",
        "- The red part is **y**\n",
        "- The blue part is the probability of a0 **pa0**\n",
        "\n",
        "\n",
        "![image.png](attachment:image.png)\n",
        "\n",
        "\n",
        "(see Week 3 Page 24)"
      ]
    },
    {
      "cell_type": "code",
      "execution_count": null,
      "metadata": {},
      "outputs": [],
      "source": [
        "class CartPoleReinforceAgent(CartPoleReinforceAgent):\n",
        "    def logistic_fn(self, state):\n",
        "        logits = np.dot(self.theta, state)\n",
        "        #print('Logits:', logits)\n",
        "        return 1 / (1 + np.exp(-logits))\n",
        "\n",
        "    def choose_action(self, current_state):\n",
        "        return np.random.choice(self.env.action_space.n, p=self.get_probabilities(current_state))\n",
        "    \n",
        "    def get_probabilities(self, current_state):\n",
        "        pa0 = self.logistic_fn(current_state)\n",
        "        if pa0 < 0.1:\n",
        "            pa0 = 0.1\n",
        "        if pa0 > 0.9:\n",
        "            pa0 = 0.9\n",
        "        return [pa0, 1 - pa0]"
      ]
    },
    {
      "attachments": {
        "image.png": {
          "image/png": "[encoded data removed]"
        }
      },
      "cell_type": "markdown",
      "metadata": {},
      "source": [
        "## Calculate Estimated Return\n",
        "The estimated return per step in episode looks like this:\n",
        "\n",
        "\n",
        "![image.png](attachment:image.png)\n",
        "\n",
        "(see Week 3 Page 25)\n",
        "\n",
        "that's what we need to implement in reverse to have an episode reward we can add as sum."
      ]
    },
    {
      "cell_type": "code",
      "execution_count": null,
      "metadata": {},
      "outputs": [],
      "source": [
        "class CartPoleReinforceAgent(CartPoleReinforceAgent):\n",
        "    def calculate_estimated_returns(self, rewards):\n",
        "        estimated_returns = []\n",
        "        T = len(rewards)\n",
        "        for t in range(T):\n",
        "            estimated_return_t = 0\n",
        "            for k in range(t+1, T):\n",
        "                d = math.pow(self.discount, k - t - 1)\n",
        "                estimated_return_t += d * rewards[k]\n",
        "            estimated_returns.append(estimated_return_t)\n",
        "        return estimated_returns\n",
        "    \n",
        "    def calculate_estimated_returns_v2(self, rewards):\n",
        "        estimated_returns = []\n",
        "        T = len(rewards)\n",
        "        # Loop over each step in the episode in reverse\n",
        "        for t in reversed(range(T)):\n",
        "            estimated_return_t = 0 \n",
        "            for k in range(t, T):\n",
        "                estimated_return_t += (self.discount ** (k - t)) * rewards[k]\n",
        "            estimated_returns.insert(0, estimated_return_t)\n",
        "        return estimated_returns\n",
        "    \n",
        "    def calculate_estimated_returns_v3(self, rewards):\n",
        "        G = 0\n",
        "        T = len(rewards)\n",
        "        estimated_returns = []\n",
        "        for t in reversed(range(T)):\n",
        "            G = G * self.discount + rewards[t]\n",
        "            estimated_returns.insert(0, G)\n",
        "        return estimated_returns"
      ]
    },
    {
      "attachments": {
        "image.png": {
          "image/png": "[encoded data removed]"
        }
      },
      "cell_type": "markdown",
      "metadata": {},
      "source": [
        "## Calculate the Policy Gradient\n",
        "We have a logistic policy gradient which has to be calculated\n",
        "The policy pi(a|s, theta) is in our case the `log_function` (see implementation)\n",
        "\n",
        "\n",
        "![image.png](attachment:image.png)\n",
        "\n",
        "\n",
        "(see Week 3 Page 24)"
      ]
    },
    {
      "cell_type": "code",
      "execution_count": null,
      "metadata": {},
      "outputs": [],
      "source": [
        "class CartPoleReinforceAgent(CartPoleReinforceAgent):\n",
        "    def calculate_policy_gradient(self, state, action):\n",
        "        probability = self.logistic_fn(state)\n",
        "        #print('Action', action, 'with probability', probability)\n",
        "        gradient = - np.array(state) * probability\n",
        "        return gradient if action == 1 else (np.array(state) + gradient)"
      ]
    },
    {
      "attachments": {
        "image.png": {
          "image/png": "[encoded data removed]"
        }
      },
      "cell_type": "markdown",
      "metadata": {},
      "source": [
        "## Update Theta\n",
        "Here the thetas need to be updated (gradient update)\n",
        "- **alpha** --> `self.learning_rate`\n",
        "- **theta^t** --> `np.pow(self.discount, t)`\n",
        "- **G** --> `estimated_returns[t]`\n",
        "- **delta_pi(a|s, theta)** --> `gradient[i]`\n",
        "\n",
        "\n",
        "![image.png](attachment:image.png)\n",
        "\n",
        "\n",
        "(see Week 3 Page 25)\n",
        "\n"
      ]
    },
    {
      "cell_type": "code",
      "execution_count": null,
      "metadata": {},
      "outputs": [],
      "source": [
        "class CartPoleReinforceAgent(CartPoleReinforceAgent):\n",
        "    def update_theta(self, states, actions, estimated_returns):\n",
        "        for t in reversed(range(len(states))):\n",
        "            #print('Action:', actions[t], 'State:', states[t], 'Theta:', self.theta)\n",
        "            gradient = self.calculate_policy_gradient(states[t], actions[t])\n",
        "            #print('Gradient', gradient)\n",
        "            self.theta += self.learning_rate * np.power(self.discount, t) * estimated_returns[t] * gradient"
      ]
    },
    {
      "cell_type": "code",
      "execution_count": null,
      "metadata": {},
      "outputs": [],
      "source": [
        "class CartPoleReinforceAgent(CartPoleReinforceAgent):\n",
        "    def train(self):\n",
        "        # Looping for each episode\n",
        "        for e in range(self.num_episodes):\n",
        "            # Initializes the state\n",
        "            current_state = self.discretize_state(self.env.reset()[0])\n",
        "\n",
        "            self.learning_rate = 0.002#self.get_learning_rate(e)\n",
        "            done = False\n",
        "\n",
        "            states = []\n",
        "            actions = []\n",
        "            rewards = []\n",
        "\n",
        "            # Looping for each step\n",
        "            while not done:\n",
        "                self.steps[e] += 1\n",
        "                # Choose A from S\n",
        "                action = self.choose_action(current_state)\n",
        "                # Take action\n",
        "                obs, reward, done, _, _ = self.env.step(action)\n",
        "                new_state = self.discretize_state(obs)\n",
        "                # save states, actions and rewards\n",
        "                # or is here only done to append all lists in one line.\n",
        "                states.append(current_state) or actions.append(action) or rewards.append(reward)\n",
        "                current_state = new_state\n",
        "                #print('Action taken:', action, 'with probability:', self.get_probabilities(current_state)[action])\n",
        "            estimated_returns = self.calculate_estimated_returns_v3(rewards)\n",
        "            self.update_theta(states, actions, estimated_returns)\n",
        "            print('#######################################################')\n",
        "            print(\"Episode {}: Total Reward: {}\".format(e + 1, sum(rewards)))\n",
        "            #print('Estimated Return:', estimated_returns)\n",
        "            #print('Thetas:', self.theta)\n",
        "            print('#######################################################')\n",
        "        print('Finished training!')"
      ]
    },
    {
      "cell_type": "code",
      "execution_count": null,
      "metadata": {},
      "outputs": [],
      "source": [
        "def load_reinforce():\n",
        "    agent = CartPoleReinforceAgent(discretize=False)\n",
        "    agent.train()\n",
        "    agent.plot_learning()\n",
        "\n",
        "    return agent\n",
        "\n",
        "agent = load_reinforce()"
      ]
    },
    {
      "cell_type": "markdown",
      "metadata": {},
      "source": []
    }
  ],
  "metadata": {
    "colab": {
      "provenance": []
    },
    "kernelspec": {
      "display_name": "Python 3",
      "name": "python3"
    },
    "language_info": {
      "codemirror_mode": {
        "name": "ipython",
        "version": 3
      },
      "file_extension": ".py",
      "mimetype": "text/x-python",
      "name": "python",
      "nbconvert_exporter": "python",
      "pygments_lexer": "ipython3",
      "version": "3.10.11"
    }
  },
  "nbformat": 4,
  "nbformat_minor": 0
}
